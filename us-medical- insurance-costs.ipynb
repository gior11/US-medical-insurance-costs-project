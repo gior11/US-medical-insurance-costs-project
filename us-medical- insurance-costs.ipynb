{
 "cells": [
  {
   "cell_type": "markdown",
   "metadata": {},
   "source": [
    "# **U.S. Medical Insurance Costs Analysis**\n",
    "### For this analysis we will be using the file named **insurance.csv** which contains data about different patients info and costs.\n",
    "### Some questions that will be answered by performing a descriptive analysis:\n",
    "    1. What is the average cost for smokers and non-smokers?\n",
    "    2. What is the mean and median age of the patients?\n",
    "    3. What is the cost for people with children and without children?\n",
    "    4. Do women and men have the same costs?"
   ]
  },
  {
   "cell_type": "code",
   "execution_count": 27,
   "metadata": {},
   "outputs": [],
   "source": [
    "import csv\n",
    "import matplotlib.pyplot as plt\n",
    "\n",
    "# Adding our data in lists so that it will be easy to analyze. Each list represents a column.\n",
    "ages = []\n",
    "sexes = []\n",
    "bmis = []\n",
    "children = []\n",
    "smokers = []\n",
    "regions = []\n",
    "charges = []\n",
    "\n",
    "with open('insurance.csv') as insurance_file:\n",
    "  insurances = csv.DictReader(insurance_file, delimiter = ',')\n",
    "  for row in insurances:\n",
    "    ages.append(row['age'])\n",
    "    sexes.append(row['sex'])\n",
    "    bmis.append(row['bmi'])\n",
    "    children.append(row['children'])\n",
    "    smokers.append(row['smoker'])\n",
    "    regions.append(row['region'])\n",
    "    charges.append(row['charges'])"
   ]
  },
  {
   "cell_type": "markdown",
   "metadata": {},
   "source": [
    "## 1. Calculation for the average cost for smokers and non-smokers in US dollars."
   ]
  },
  {
   "cell_type": "code",
   "execution_count": 28,
   "metadata": {},
   "outputs": [
    {
     "name": "stdout",
     "output_type": "stream",
     "text": [
      "The average cost for smokers: 32050\n",
      "The average cost for non-smokers: 8434\n"
     ]
    },
    {
     "data": {
      "image/png": "[encoded data removed]",
      "text/plain": [
       "<Figure size 640x480 with 1 Axes>"
      ]
     },
     "metadata": {},
     "output_type": "display_data"
    }
   ],
   "source": [
    "def avg_smoker_charges(smokers, charges):\n",
    "  smoker_count = 0\n",
    "  smoker_ammount = 0\n",
    "  nosmoker_ammount = 0\n",
    "  for i in range(len(smokers)):\n",
    "    if smokers[i] == 'yes':\n",
    "      smoker_ammount += float(charges[i])\n",
    "      smoker_count += 1\n",
    "    else:\n",
    "      nosmoker_ammount += float(charges[i])\n",
    "  avg_smoker = smoker_ammount / smoker_count\n",
    "  avg_nosmoker = nosmoker_ammount / (len(smokers) - smoker_count)\n",
    "  print('The average cost for smokers: ' + str(round(avg_smoker)))\n",
    "  print('The average cost for non-smokers: ' + str(round(avg_nosmoker)))\n",
    "\n",
    "  x = ['smokers', 'non-smokers']\n",
    "  y = round(avg_smoker),round(avg_nosmoker)\n",
    "  plt.bar(x, y, color = ['brown','mediumseagreen'])\n",
    "  plt.ylabel('Cost')\n",
    "  plt.title('Average cost for smokers and non-smokers in dollars')\n",
    "  plt.show()\n",
    "avg_smoker_charges(smokers, charges)\n"
   ]
  },
  {
   "cell_type": "markdown",
   "metadata": {},
   "source": [
    "### Looking at the average costs for smokers and non-smokers we can see that the `cost for smokers` is almost `4 times higher`."
   ]
  },
  {
   "cell_type": "markdown",
   "metadata": {},
   "source": [
    "## 2. Calculation for the mean and median age of patients."
   ]
  },
  {
   "cell_type": "code",
   "execution_count": 29,
   "metadata": {},
   "outputs": [
    {
     "name": "stdout",
     "output_type": "stream",
     "text": [
      "Mean age: 39\n",
      "Median age: 39\n",
      "Age range: 46\n"
     ]
    }
   ],
   "source": [
    "age_ammount = 0\n",
    "for age in ages:\n",
    "  age_ammount += int(age)  \n",
    "  mean_age = age_ammount / len(ages)\n",
    "print('Mean age: ' + str(round(mean_age)))\n",
    "\n",
    "sorted_ages = sorted(ages)\n",
    "\n",
    "mid = len(sorted_ages) // 2\n",
    "\n",
    "if len(sorted_ages) % 2 == 0:\n",
    " median_age = (int(sorted_ages[mid]) + int(sorted_ages[mid-1])) / 2\n",
    "else:\n",
    "  median_age = int(sorted_ages[mid])\n",
    "  \n",
    "print('Median age: ' + str(round(median_age)))\n",
    "\n",
    "# Age range\n",
    "len(sorted_ages)\n",
    "age_range = int(sorted_ages[1337]) - int(sorted_ages[0])\n",
    "print('Age range: ' + str(age_range))"
   ]
  },
  {
   "cell_type": "markdown",
   "metadata": {},
   "source": [
    "### Both mean and median age of the patients is 39 years old. We have a `symmetrical distribution`.\n",
    "### The age range is 46 years."
   ]
  },
  {
   "cell_type": "markdown",
   "metadata": {},
   "source": [
    "## 3. Calculations for the costs between patients with children and no children in US dollars."
   ]
  },
  {
   "cell_type": "code",
   "execution_count": 30,
   "metadata": {},
   "outputs": [
    {
     "name": "stdout",
     "output_type": "stream",
     "text": [
      "Average cost with children : 13950\n",
      "Average cost with no children : 12366\n"
     ]
    }
   ],
   "source": [
    "def avg_cost_child(children, charges):\n",
    "  childless_count = 0\n",
    "  childless_amount = 0\n",
    "  with_child_ammount = 0\n",
    "  for i in range(len(children)):\n",
    "    if children[i] == '0':\n",
    "      childless_count += 1\n",
    "      childless_amount += float(charges[i])\n",
    "    else:\n",
    "      with_child_ammount += float(charges[i])\n",
    "  avg_with_child = with_child_ammount / (len(children) - childless_count)\n",
    "  avg_nochild = childless_amount / childless_count\n",
    "  print('Average cost with children : ' + str(round(avg_with_child)))\n",
    "  print('Average cost with no children : ' + str(round(avg_nochild)))\n",
    "\n",
    "avg_cost_child(children, charges)"
   ]
  },
  {
   "cell_type": "markdown",
   "metadata": {
    "jp-MarkdownHeadingCollapsed": true
   },
   "source": [
    "### Looks like having children costs more. That is expected."
   ]
  },
  {
   "cell_type": "markdown",
   "metadata": {},
   "source": [
    "## 4. Calculations for the costs between men and women in US dollars."
   ]
  },
  {
   "cell_type": "code",
   "execution_count": 31,
   "metadata": {},
   "outputs": [
    {
     "name": "stdout",
     "output_type": "stream",
     "text": [
      "Percentage of male patients : 50.5%\n",
      "Average cost for men : 13957\n",
      "Average cost for women : 12570\n"
     ]
    }
   ],
   "source": [
    "def cost_sexes(sexes, charges):\n",
    "  male_ammount = 0\n",
    "  male_count = 0\n",
    "  female_ammount = 0\n",
    "  for i in range(len(sexes)):\n",
    "    if sexes[i] == 'male':\n",
    "      male_ammount += float(charges[i])\n",
    "      male_count += 1\n",
    "    else:\n",
    "      female_ammount += float(charges[i])\n",
    "  avg_male_cost = male_ammount / male_count\n",
    "  avg_female_cost = female_ammount / (len(sexes) - male_count)\n",
    "  print('Percentage of male patients : ' + str(round(male_count / len(sexes)*100, 1)) + '%')\n",
    "  print('Average cost for men : ' + str(round(avg_male_cost)))\n",
    "  print('Average cost for women : ' + str(round(avg_female_cost)))   \n",
    "cost_sexes(sexes, charges)"
   ]
  },
  {
   "cell_type": "markdown",
   "metadata": {},
   "source": [
    "### The average cost is higher for men than women. Each gender is equally represented in our data."
   ]
  },
  {
   "cell_type": "markdown",
   "metadata": {},
   "source": [
    "# *Conclusions*"
   ]
  },
  {
   "cell_type": "markdown",
   "metadata": {},
   "source": [
    "### Looking at the results, it is sure to say that the majority of the insurance costs is from people who smoke. In addition, women have higher costs than men and that is something to analyze in a future causal analysis. Also, having children costs more as is expected."
   ]
  }
 ],
 "metadata": {
  "kernelspec": {
   "display_name": "Python 3 (ipykernel)",
   "language": "python",
   "name": "python3"
  },
  "language_info": {
   "codemirror_mode": {
    "name": "ipython",
    "version": 3
   },
   "file_extension": ".py",
   "mimetype": "text/x-python",
   "name": "python",
   "nbconvert_exporter": "python",
   "pygments_lexer": "ipython3",
   "version": "3.11.4"
  }
 },
 "nbformat": 4,
 "nbformat_minor": 4
}
