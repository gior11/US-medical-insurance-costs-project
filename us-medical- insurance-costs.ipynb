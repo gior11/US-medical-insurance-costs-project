{
 "cells": [
  {
   "cell_type": "markdown",
   "metadata": {},
   "source": [
    "# U.S. Medical Insurance Costs\n",
    "### For this analysis we will be using the file named **insurance.csv** and **Python.**\n",
    "### There is no missing data."
   ]
  },
  {
   "cell_type": "code",
   "execution_count": 1,
   "metadata": {},
   "outputs": [],
   "source": [
    "import csv\n",
    "import matplotlib.pyplot as plt\n",
    "\n",
    "# Adding our data in lists so that it will be easy to analyze. Each list represents a column.\n",
    "ages = []\n",
    "sexes = []\n",
    "bmis = []\n",
    "children = []\n",
    "smokers = []\n",
    "regions = []\n",
    "charges = []\n",
    "\n",
    "with open('insurance.csv') as insurance_file:\n",
    "  insurances = csv.DictReader(insurance_file, delimiter = ',')\n",
    "  for row in insurances:\n",
    "    ages.append(row['age'])\n",
    "    sexes.append(row['sex'])\n",
    "    bmis.append(row['bmi'])\n",
    "    children.append(row['children'])\n",
    "    smokers.append(row['smoker'])\n",
    "    regions.append(row['region'])\n",
    "    charges.append(row['charges'])"
   ]
  },
  {
   "cell_type": "markdown",
   "metadata": {},
   "source": [
    "# 1. We will now calculate the average cost for smokers and non-smokers in US dollars."
   ]
  },
  {
   "cell_type": "code",
   "execution_count": 2,
   "metadata": {},
   "outputs": [
    {
     "name": "stdout",
     "output_type": "stream",
     "text": [
      "The average cost for smokers: 32050\n",
      "The average cost for non-smokers: 8434\n"
     ]
    },
    {
     "data": {
      "image/png": "[encoded data removed]",
      "text/plain": [
       "<Figure size 640x480 with 1 Axes>"
      ]
     },
     "metadata": {},
     "output_type": "display_data"
    }
   ],
   "source": [
    "def avg_smoker_charges(smokers, charges):\n",
    "  smoker_count = 0\n",
    "  smoker_ammount = 0\n",
    "  nosmoker_ammount = 0\n",
    "  for i in range(len(smokers)):\n",
    "    if smokers[i] == 'yes':\n",
    "      smoker_ammount += float(charges[i])\n",
    "      smoker_count += 1\n",
    "    else:\n",
    "      nosmoker_ammount += float(charges[i])\n",
    "  avg_smoker = smoker_ammount / smoker_count\n",
    "  avg_nosmoker = nosmoker_ammount / (len(smokers) - smoker_count)\n",
    "  print('The average cost for smokers: ' + str(round(avg_smoker)))\n",
    "  print('The average cost for non-smokers: ' + str(round(avg_nosmoker)))\n",
    "\n",
    "  x = ['smokers', 'non-smokers']\n",
    "  y = round(avg_smoker),round(avg_nosmoker)\n",
    "  plt.bar(x, y, color = \"mediumseagreen\")\n",
    "  plt.ylabel('Cost')\n",
    "  plt.show()\n",
    "avg_smoker_charges(smokers, charges)\n"
   ]
  },
  {
   "cell_type": "markdown",
   "metadata": {},
   "source": [
    "### Looking at the average costs for smokers and non-smokers we can see that the cost for smokers is almost 4 times higher."
   ]
  },
  {
   "cell_type": "markdown",
   "metadata": {},
   "source": [
    "# 2. We will now calculate the mean and median age of patients."
   ]
  },
  {
   "cell_type": "code",
   "execution_count": 3,
   "metadata": {},
   "outputs": [
    {
     "name": "stdout",
     "output_type": "stream",
     "text": [
      "Mean age: 39\n",
      "Median age: 39\n"
     ]
    }
   ],
   "source": [
    "age_ammount = 0\n",
    "for age in ages:\n",
    "  age_ammount += int(age)  \n",
    "  mean_age = age_ammount / len(ages)\n",
    "print('Mean age: ' + str(round(mean_age)))\n",
    "\n",
    "sorted_ages = sorted(ages)\n",
    "mid = len(sorted_ages) // 2\n",
    "\n",
    "if len(sorted_ages) % 2 == 0:\n",
    " median_age = (int(sorted_ages[mid]) + int(sorted_ages[mid-1])) / 2\n",
    "else:\n",
    "  median_age = int(sorted_ages[mid])\n",
    "  \n",
    "print('Median age: ' + str(round(median_age)))\n"
   ]
  },
  {
   "cell_type": "markdown",
   "metadata": {},
   "source": [
    "### Both mean and median age of the patients is 39 years old. We have a normal distribution."
   ]
  },
  {
   "cell_type": "markdown",
   "metadata": {},
   "source": [
    "# 3. We will now calculate the costs between patients with children and no children in US dollars."
   ]
  },
  {
   "cell_type": "code",
   "execution_count": 4,
   "metadata": {},
   "outputs": [
    {
     "name": "stdout",
     "output_type": "stream",
     "text": [
      "Average cost with children : 13950\n",
      "Average cost with no children : 12366\n"
     ]
    }
   ],
   "source": [
    "def avg_cost_child(children, charges):\n",
    "  childless_count = 0\n",
    "  childless_amount = 0\n",
    "  with_child_ammount = 0\n",
    "  for i in range(len(children)):\n",
    "    if children[i] == '0':\n",
    "      childless_count += 1\n",
    "      childless_amount += float(charges[i])\n",
    "    else:\n",
    "      with_child_ammount += float(charges[i])\n",
    "  avg_with_child = with_child_ammount / (len(children) - childless_count)\n",
    "  avg_nochild = childless_amount / childless_count\n",
    "  print('Average cost with children : ' + str(round(avg_with_child)))\n",
    "  print('Average cost with no children : ' + str(round(avg_nochild)))\n",
    "\n",
    "avg_cost_child(children, charges)"
   ]
  },
  {
   "cell_type": "markdown",
   "metadata": {},
   "source": [
    "### We can see that for patients with children the average cost is higher."
   ]
  },
  {
   "cell_type": "markdown",
   "metadata": {},
   "source": [
    "# 4. Let's now calculate the costs between men and women in US dollars."
   ]
  },
  {
   "cell_type": "code",
   "execution_count": 5,
   "metadata": {},
   "outputs": [
    {
     "name": "stdout",
     "output_type": "stream",
     "text": [
      "Percentage of male patients : 50.5%\n",
      "Average cost for men : 13957\n",
      "Average cost for women : 12570\n"
     ]
    }
   ],
   "source": [
    "def cost_sexes(sexes, charges):\n",
    "  male_ammount = 0\n",
    "  male_count = 0\n",
    "  female_ammount = 0\n",
    "  for i in range(len(sexes)):\n",
    "    if sexes[i] == 'male':\n",
    "      male_ammount += float(charges[i])\n",
    "      male_count += 1\n",
    "    else:\n",
    "      female_ammount += float(charges[i])\n",
    "  avg_male_cost = male_ammount / male_count\n",
    "  avg_female_cost = female_ammount / (len(sexes) - male_count)\n",
    "  print('Percentage of male patients : ' + str(round(male_count / len(sexes)*100, 1)) + '%')\n",
    "  print('Average cost for men : ' + str(round(avg_male_cost)))\n",
    "  print('Average cost for women : ' + str(round(avg_female_cost)))   \n",
    "cost_sexes(sexes, charges)\n"
   ]
  },
  {
   "cell_type": "markdown",
   "metadata": {},
   "source": [
    "### The average cost is higher for men than women. Each gender is equally represented in our data."
   ]
  }
 ],
 "metadata": {
  "kernelspec": {
   "display_name": "Python 3 (ipykernel)",
   "language": "python",
   "name": "python3"
  },
  "language_info": {
   "codemirror_mode": {
    "name": "ipython",
    "version": 3
   },
   "file_extension": ".py",
   "mimetype": "text/x-python",
   "name": "python",
   "nbconvert_exporter": "python",
   "pygments_lexer": "ipython3",
   "version": "3.11.4"
  }
 },
 "nbformat": 4,
 "nbformat_minor": 4
}
